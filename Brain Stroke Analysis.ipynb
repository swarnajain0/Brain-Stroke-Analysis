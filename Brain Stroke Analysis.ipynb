{
 "cells": [
  {
   "cell_type": "code",
   "execution_count": null,
   "id": "3615ae8d",
   "metadata": {},
   "outputs": [],
   "source": [
    "Topic: Brain stroke Analysis\n",
    "Student Name: Swarna Jain"
   ]
  },
  {
   "cell_type": "code",
   "execution_count": 169,
   "id": "engaging-disney",
   "metadata": {},
   "outputs": [],
   "source": [
    "import os\n",
    "import pandas as pd\n",
    "import numpy as np\n",
    "%matplotlib inline\n",
    "import matplotlib\n",
    "import numpy as np\n",
    "import matplotlib.pyplot as plt\n",
    "import seaborn as sns\n",
    "from numpy import percentile\n",
    "from imblearn.over_sampling import SMOTE\n",
    "from sklearn.tree import DecisionTreeClassifier\n",
    "from sklearn.ensemble import RandomForestClassifier\n",
    "from sklearn.linear_model import LogisticRegression, LogisticRegressionCV\n",
    "from sklearn.naive_bayes import GaussianNB\n",
    "from sklearn.model_selection import train_test_split, cross_val_score, GridSearchCV\n",
    "from sklearn.metrics import accuracy_score, recall_score, precision_score, f1_score\n",
    "from sklearn.metrics import confusion_matrix\n",
    "import warnings\n",
    "warnings.filterwarnings(\"ignore\")"
   ]
  },
  {
   "cell_type": "code",
   "execution_count": 170,
   "id": "forbidden-enhancement",
   "metadata": {},
   "outputs": [
    {
     "data": {
      "text/html": [
       "<div>\n",
       "<style scoped>\n",
       "    .dataframe tbody tr th:only-of-type {\n",
       "        vertical-align: middle;\n",
       "    }\n",
       "\n",
       "    .dataframe tbody tr th {\n",
       "        vertical-align: top;\n",
       "    }\n",
       "\n",
       "    .dataframe thead th {\n",
       "        text-align: right;\n",
       "    }\n",
       "</style>\n",
       "<table border=\"1\" class=\"dataframe\">\n",
       "  <thead>\n",
       "    <tr style=\"text-align: right;\">\n",
       "      <th></th>\n",
       "      <th>id</th>\n",
       "      <th>gender</th>\n",
       "      <th>age</th>\n",
       "      <th>hypertension</th>\n",
       "      <th>heart_disease</th>\n",
       "      <th>ever_married</th>\n",
       "      <th>work_type</th>\n",
       "      <th>Residence_type</th>\n",
       "      <th>avg_glucose_level</th>\n",
       "      <th>bmi</th>\n",
       "      <th>smoking_status</th>\n",
       "      <th>stroke</th>\n",
       "    </tr>\n",
       "  </thead>\n",
       "  <tbody>\n",
       "    <tr>\n",
       "      <th>0</th>\n",
       "      <td>9046</td>\n",
       "      <td>Male</td>\n",
       "      <td>67.0</td>\n",
       "      <td>0</td>\n",
       "      <td>1</td>\n",
       "      <td>Yes</td>\n",
       "      <td>Private</td>\n",
       "      <td>Urban</td>\n",
       "      <td>228.69</td>\n",
       "      <td>36.6</td>\n",
       "      <td>formerly smoked</td>\n",
       "      <td>1</td>\n",
       "    </tr>\n",
       "    <tr>\n",
       "      <th>1</th>\n",
       "      <td>51676</td>\n",
       "      <td>Female</td>\n",
       "      <td>61.0</td>\n",
       "      <td>0</td>\n",
       "      <td>0</td>\n",
       "      <td>Yes</td>\n",
       "      <td>Self-employed</td>\n",
       "      <td>Rural</td>\n",
       "      <td>202.21</td>\n",
       "      <td>NaN</td>\n",
       "      <td>never smoked</td>\n",
       "      <td>1</td>\n",
       "    </tr>\n",
       "    <tr>\n",
       "      <th>2</th>\n",
       "      <td>31112</td>\n",
       "      <td>Male</td>\n",
       "      <td>80.0</td>\n",
       "      <td>0</td>\n",
       "      <td>1</td>\n",
       "      <td>Yes</td>\n",
       "      <td>Private</td>\n",
       "      <td>Rural</td>\n",
       "      <td>105.92</td>\n",
       "      <td>32.5</td>\n",
       "      <td>never smoked</td>\n",
       "      <td>1</td>\n",
       "    </tr>\n",
       "    <tr>\n",
       "      <th>3</th>\n",
       "      <td>60182</td>\n",
       "      <td>Female</td>\n",
       "      <td>49.0</td>\n",
       "      <td>0</td>\n",
       "      <td>0</td>\n",
       "      <td>Yes</td>\n",
       "      <td>Private</td>\n",
       "      <td>Urban</td>\n",
       "      <td>171.23</td>\n",
       "      <td>34.4</td>\n",
       "      <td>smokes</td>\n",
       "      <td>1</td>\n",
       "    </tr>\n",
       "    <tr>\n",
       "      <th>4</th>\n",
       "      <td>1665</td>\n",
       "      <td>Female</td>\n",
       "      <td>79.0</td>\n",
       "      <td>1</td>\n",
       "      <td>0</td>\n",
       "      <td>Yes</td>\n",
       "      <td>Self-employed</td>\n",
       "      <td>Rural</td>\n",
       "      <td>174.12</td>\n",
       "      <td>24.0</td>\n",
       "      <td>never smoked</td>\n",
       "      <td>1</td>\n",
       "    </tr>\n",
       "  </tbody>\n",
       "</table>\n",
       "</div>"
      ],
      "text/plain": [
       "      id  gender   age  hypertension  heart_disease ever_married  \\\n",
       "0   9046    Male  67.0             0              1          Yes   \n",
       "1  51676  Female  61.0             0              0          Yes   \n",
       "2  31112    Male  80.0             0              1          Yes   \n",
       "3  60182  Female  49.0             0              0          Yes   \n",
       "4   1665  Female  79.0             1              0          Yes   \n",
       "\n",
       "       work_type Residence_type  avg_glucose_level   bmi   smoking_status  \\\n",
       "0        Private          Urban             228.69  36.6  formerly smoked   \n",
       "1  Self-employed          Rural             202.21   NaN     never smoked   \n",
       "2        Private          Rural             105.92  32.5     never smoked   \n",
       "3        Private          Urban             171.23  34.4           smokes   \n",
       "4  Self-employed          Rural             174.12  24.0     never smoked   \n",
       "\n",
       "   stroke  \n",
       "0       1  \n",
       "1       1  \n",
       "2       1  \n",
       "3       1  \n",
       "4       1  "
      ]
     },
     "execution_count": 170,
     "metadata": {},
     "output_type": "execute_result"
    }
   ],
   "source": [
    "# loading the dataset\n",
    "df = pd.read_csv('healthcare-dataset-stroke-data.csv')\n",
    "df.head()"
   ]
  },
  {
   "cell_type": "code",
   "execution_count": 171,
   "id": "anticipated-capacity",
   "metadata": {},
   "outputs": [
    {
     "name": "stdout",
     "output_type": "stream",
     "text": [
      "<class 'pandas.core.frame.DataFrame'>\n",
      "RangeIndex: 5110 entries, 0 to 5109\n",
      "Data columns (total 12 columns):\n",
      " #   Column             Non-Null Count  Dtype  \n",
      "---  ------             --------------  -----  \n",
      " 0   id                 5110 non-null   int64  \n",
      " 1   gender             5110 non-null   object \n",
      " 2   age                5110 non-null   float64\n",
      " 3   hypertension       5110 non-null   int64  \n",
      " 4   heart_disease      5110 non-null   int64  \n",
      " 5   ever_married       5110 non-null   object \n",
      " 6   work_type          5110 non-null   object \n",
      " 7   Residence_type     5110 non-null   object \n",
      " 8   avg_glucose_level  5110 non-null   float64\n",
      " 9   bmi                4909 non-null   float64\n",
      " 10  smoking_status     5110 non-null   object \n",
      " 11  stroke             5110 non-null   int64  \n",
      "dtypes: float64(3), int64(4), object(5)\n",
      "memory usage: 479.2+ KB\n"
     ]
    }
   ],
   "source": [
    "df.info()"
   ]
  },
  {
   "cell_type": "markdown",
   "id": "blessed-robertson",
   "metadata": {},
   "source": [
    "## **A) DATA PRE-PROCESSING**  \n",
    "### Null Values, Duplicates, and unique Rows"
   ]
  },
  {
   "cell_type": "code",
   "execution_count": 172,
   "id": "endless-removal",
   "metadata": {},
   "outputs": [
    {
     "name": "stdout",
     "output_type": "stream",
     "text": [
      "id                     0\n",
      "gender                 0\n",
      "age                    0\n",
      "hypertension           0\n",
      "heart_disease          0\n",
      "ever_married           0\n",
      "work_type              0\n",
      "Residence_type         0\n",
      "avg_glucose_level      0\n",
      "bmi                  201\n",
      "smoking_status         0\n",
      "stroke                 0\n",
      "dtype: int64\n",
      "Duplicate Rows: 0 \n",
      "\n",
      "Overall there are 201 missing values in bmi column and 0 duplicates in the dataset\n"
     ]
    }
   ],
   "source": [
    "# show missing values\n",
    "print(df.isnull().sum())\n",
    "\n",
    "# show duplicates\n",
    "duplicate = df[df.duplicated()]\n",
    "print(\"Duplicate Rows:\", len(duplicate), \"\\n\")\n",
    "\n",
    "print(\"Overall there are\", sum(df.isnull().sum()), \"missing values in bmi column and\", len(duplicate), \"duplicates in the dataset\")"
   ]
  },
  {
   "cell_type": "code",
   "execution_count": 173,
   "id": "recent-rebate",
   "metadata": {},
   "outputs": [
    {
     "name": "stdout",
     "output_type": "stream",
     "text": [
      "total missing values after mean imputation: 0\n"
     ]
    }
   ],
   "source": [
    "# because we want to preserve the sample size in our data set\n",
    "# we will replace the missing values in bmi column by the mean of non-missing values\n",
    "df[\"bmi\"].fillna(df[\"bmi\"].mean(),inplace=True)\n",
    "\n",
    "print(\"total missing values after mean imputation:\", sum(df.isnull().sum()))"
   ]
  },
  {
   "cell_type": "code",
   "execution_count": 174,
   "id": "cathedral-proposal",
   "metadata": {},
   "outputs": [
    {
     "name": "stdout",
     "output_type": "stream",
     "text": [
      "id 5110\n",
      "gender 3\n",
      "age 104\n",
      "hypertension 2\n",
      "heart_disease 2\n",
      "ever_married 2\n",
      "work_type 5\n",
      "Residence_type 2\n",
      "avg_glucose_level 3979\n",
      "bmi 419\n",
      "smoking_status 4\n",
      "stroke 2\n"
     ]
    }
   ],
   "source": [
    "# print out columns and number of unique values\n",
    "for col in df.columns:\n",
    "    print(col, df[col].nunique())"
   ]
  },
  {
   "cell_type": "code",
   "execution_count": 175,
   "id": "freelance-client",
   "metadata": {},
   "outputs": [
    {
     "name": "stdout",
     "output_type": "stream",
     "text": [
      "Female    2994\n",
      "Male      2115\n",
      "Other        1\n",
      "Name: gender, dtype: int64 \n",
      "\n"
     ]
    }
   ],
   "source": [
    "# turns out gender column has 3 unique values with \"Female\", \"Male\", and \"Other\"\n",
    "print(df[\"gender\"].value_counts(), \"\\n\")\n",
    "\n",
    "# but since there is only one row with gender \"Other\", we drop this row out\n",
    "df.drop(df.index[df[\"gender\"]==\"Other\"], inplace=True)"
   ]
  },
  {
   "cell_type": "code",
   "execution_count": 176,
   "id": "interpreted-alert",
   "metadata": {},
   "outputs": [
    {
     "name": "stdout",
     "output_type": "stream",
     "text": [
      "Private          2924\n",
      "Self-employed     819\n",
      "children          687\n",
      "Govt_job          657\n",
      "Never_worked       22\n",
      "Name: work_type, dtype: int64\n"
     ]
    }
   ],
   "source": [
    "# we also find out work_type has 4 unique values, and one of them is \"children\"\n",
    "print(df[\"work_type\"].value_counts())\n",
    "\n",
    "# but since a children is also never worked, we replace \"children\" value with \"Never_worked\"\n",
    "df[\"work_type\"] = df[\"work_type\"].replace([\"children\"], \"Never_worked\")"
   ]
  },
  {
   "cell_type": "code",
   "execution_count": 177,
   "id": "medical-emphasis",
   "metadata": {},
   "outputs": [
    {
     "name": "stdout",
     "output_type": "stream",
     "text": [
      "<class 'pandas.core.frame.DataFrame'>\n",
      "Int64Index: 5109 entries, 0 to 5109\n",
      "Data columns (total 11 columns):\n",
      " #   Column             Non-Null Count  Dtype   \n",
      "---  ------             --------------  -----   \n",
      " 0   gender             5109 non-null   category\n",
      " 1   age                5109 non-null   int64   \n",
      " 2   hypertension       5109 non-null   category\n",
      " 3   heart_disease      5109 non-null   category\n",
      " 4   ever_married       5109 non-null   category\n",
      " 5   work_type          5109 non-null   category\n",
      " 6   residence_type     5109 non-null   category\n",
      " 7   avg_glucose_level  5109 non-null   float64 \n",
      " 8   bmi                5109 non-null   float64 \n",
      " 9   smoking_status     5109 non-null   category\n",
      " 10  stroke             5109 non-null   category\n",
      "dtypes: category(8), float64(2), int64(1)\n",
      "memory usage: 200.7 KB\n",
      "None\n"
     ]
    }
   ],
   "source": [
    "# next we rename the \"Residence_type\" with lower case initial for consistency\n",
    "# and change age column into integer from float\n",
    "df.rename(columns = {\"Residence_type\": \"residence_type\"}, inplace=True)\n",
    "df[\"age\"] = df[\"age\"].astype(\"int\")\n",
    "\n",
    "# after that we convert all object type variables into categorical\n",
    "cols = [\"stroke\", \"gender\", \"hypertension\", \"heart_disease\", \"ever_married\", \"work_type\", \"residence_type\", \"smoking_status\"]\n",
    "df[cols] = df[cols].astype(\"category\")\n",
    "\n",
    "# and then we drop id column as it won't have any contribution to our analysis\n",
    "df.drop([\"id\"], axis=\"columns\", inplace=True)\n",
    "\n",
    "# this is our dataset looks after pre-processing\n",
    "print(df.info())"
   ]
  },
  {
   "cell_type": "markdown",
   "id": "tracked-annual",
   "metadata": {},
   "source": [
    "## **B) EXPLORATORY DATA ANALYSIS**\n",
    "### 1) The Frequency of Target Variable: \"Stroke\""
   ]
  },
  {
   "cell_type": "code",
   "execution_count": 178,
   "id": "previous-nickel",
   "metadata": {},
   "outputs": [
    {
     "name": "stdout",
     "output_type": "stream",
     "text": [
      "0    4860\n",
      "1     249\n",
      "Name: stroke, dtype: int64 \n",
      "\n",
      "# of people didn't have a stroke: 4860\n",
      "# of people had a stroke: 249\n"
     ]
    }
   ],
   "source": [
    "# \"stroke\" is the target variable in our dataset. \n",
    "# stroke = 1 means a patient had a stroke, stroke = 0 means patient didnt have a stroke\n",
    "\n",
    "print(df[\"stroke\"].value_counts(), \"\\n\")\n",
    "\n",
    "stroke1 = df[df[\"stroke\"] == 1]\n",
    "stroke0 = df[df[\"stroke\"] == 0]\n",
    "\n",
    "print(\"# of people didn't have a stroke:\", len(stroke0))\n",
    "print(\"# of people had a stroke:\", len(stroke1))"
   ]
  },
  {
   "cell_type": "code",
   "execution_count": 179,
   "id": "textile-airfare",
   "metadata": {},
   "outputs": [
    {
     "data": {
      "image/png": "[encoded data removed]",
      "text/plain": [
       "<Figure size 432x288 with 1 Axes>"
      ]
     },
     "metadata": {
      "needs_background": "light"
     },
     "output_type": "display_data"
    }
   ],
   "source": [
    "sns.countplot(x=\"stroke\", data=df)\n",
    "plt.title(\"Distribution of Stroke Data\")\n",
    "plt.show()"
   ]
  },
  {
   "cell_type": "markdown",
   "id": "killing-calgary",
   "metadata": {},
   "source": [
    "**As seen from above graph, our data-set is highly imbalanced.\n",
    "We will handle this issue later when we are creating our model for prediction.**"
   ]
  },
  {
   "cell_type": "markdown",
   "id": "amino-messaging",
   "metadata": {},
   "source": [
    "### 2) Correlation Matrix"
   ]
  },
  {
   "cell_type": "code",
   "execution_count": 180,
   "id": "tutorial-blackberry",
   "metadata": {},
   "outputs": [
    {
     "data": {
      "image/png": "[encoded data removed]",
      "text/plain": [
       "<Figure size 432x288 with 2 Axes>"
      ]
     },
     "metadata": {
      "needs_background": "light"
     },
     "output_type": "display_data"
    },
    {
     "name": "stdout",
     "output_type": "stream",
     "text": [
      "                    age  avg_glucose_level   bmi\n",
      "age                1.00               0.24  0.33\n",
      "avg_glucose_level  0.24               1.00  0.17\n",
      "bmi                0.33               0.17  1.00\n"
     ]
    }
   ],
   "source": [
    "corr_matrix = df.corr().round(2)\n",
    "sns.heatmap(corr_matrix)\n",
    "plt.title(\"Correlation Matrix for Numerical Features\")\n",
    "plt.show()\n",
    "print(corr_matrix)"
   ]
  },
  {
   "cell_type": "markdown",
   "id": "ranging-supply",
   "metadata": {},
   "source": [
    "**None of the numerical features are seem to be highly correlated.**"
   ]
  },
  {
   "cell_type": "markdown",
   "id": "settled-bookmark",
   "metadata": {},
   "source": [
    "### 3) Observation of Numerical Features"
   ]
  },
  {
   "cell_type": "code",
   "execution_count": 181,
   "id": "bizarre-workshop",
   "metadata": {},
   "outputs": [
    {
     "data": {
      "image/png": "[encoded data removed]",
      "text/plain": [
       "<Figure size 1008x288 with 2 Axes>"
      ]
     },
     "metadata": {
      "needs_background": "light"
     },
     "output_type": "display_data"
    }
   ],
   "source": [
    "fig, axes = plt.subplots(1,2, figsize=(14,4))\n",
    "\n",
    "sns.histplot(x=df[\"age\"], data=df, bins=30, ax=axes[0])\n",
    "axes[0].set_title(\"Age Distribution\")\n",
    "\n",
    "sns.boxplot(y=df[\"age\"], x=\"stroke\", data=df, ax=axes[1])\n",
    "axes[1].set_title(\"Age vs Stroke Boxplot\")\n",
    "plt.show()"
   ]
  },
  {
   "cell_type": "markdown",
   "id": "applicable-defeat",
   "metadata": {},
   "source": [
    "**We can see that median age for people who had stroke is higher than people who didn't.**"
   ]
  },
  {
   "cell_type": "code",
   "execution_count": 182,
   "id": "looking-export",
   "metadata": {},
   "outputs": [
    {
     "data": {
      "image/png": "[encoded data removed]",
      "text/plain": [
       "<Figure size 1008x288 with 2 Axes>"
      ]
     },
     "metadata": {
      "needs_background": "light"
     },
     "output_type": "display_data"
    }
   ],
   "source": [
    "fig, axes = plt.subplots(1,2, figsize=(14,4))\n",
    "\n",
    "sns.histplot(x=df[\"avg_glucose_level\"], data=df, bins=30, ax=axes[0])\n",
    "axes[0].set_title(\"Avg Glucose Level Distribution\")\n",
    "\n",
    "sns.boxplot(y=df[\"avg_glucose_level\"], x=\"stroke\", data=df, ax=axes[1])\n",
    "axes[1].set_title(\"Avg Glucose Level vs Stroke Boxplot\")\n",
    "plt.show()"
   ]
  },
  {
   "cell_type": "markdown",
   "id": "honest-interim",
   "metadata": {},
   "source": [
    "**Avg glucose level distribution is right_skewed with many outliers, and median value of avg glucose level is higher on people who had a stroke than those who didn't.**"
   ]
  },
  {
   "cell_type": "code",
   "execution_count": 183,
   "id": "oriented-parts",
   "metadata": {},
   "outputs": [
    {
     "data": {
      "image/png": "[encoded data removed]",
      "text/plain": [
       "<Figure size 1008x288 with 2 Axes>"
      ]
     },
     "metadata": {
      "needs_background": "light"
     },
     "output_type": "display_data"
    }
   ],
   "source": [
    "fig, axes = plt.subplots(1,2, figsize=(14,4))\n",
    "\n",
    "sns.histplot(x=df[\"bmi\"], data=df, bins=30, ax=axes[0])\n",
    "axes[0].set_title(\"BMI Distribution\")\n",
    "\n",
    "sns.boxplot(y=df[\"bmi\"], x=\"stroke\", data=df, ax=axes[1])\n",
    "axes[1].set_title(\"BMI vs Stroke Boxplot\")\n",
    "plt.show()"
   ]
  },
  {
   "cell_type": "markdown",
   "id": "complimentary-harmony",
   "metadata": {},
   "source": [
    "**Bmi doesn't seem to have much correlation with stroke as the median values for both categories look almost the same.**\n",
    "\n",
    "**Also similar to avg glucose level, there are many outliers in bmi column. We will handle those outliers before we create our model.**"
   ]
  },
  {
   "cell_type": "markdown",
   "id": "confirmed-cooperative",
   "metadata": {},
   "source": [
    "### 4) Observations of Categorial Features"
   ]
  },
  {
   "cell_type": "code",
   "execution_count": 184,
   "id": "canadian-muscle",
   "metadata": {},
   "outputs": [
    {
     "data": {
      "image/png": "[encoded data removed]",
      "text/plain": [
       "<Figure size 432x288 with 1 Axes>"
      ]
     },
     "metadata": {
      "needs_background": "light"
     },
     "output_type": "display_data"
    }
   ],
   "source": [
    "# gender vs stroke\n",
    "sns.countplot(x=\"gender\", data=stroke1)\n",
    "plt.title(\"Gender vs Stroke\")\n",
    "plt.xlabel(\"Gender\")\n",
    "plt.ylabel(\"Count\")\n",
    "plt.show()"
   ]
  },
  {
   "cell_type": "markdown",
   "id": "animal-domain",
   "metadata": {},
   "source": [
    "**We observe that females are slightly more likely than males to get a stroke.** "
   ]
  },
  {
   "cell_type": "code",
   "execution_count": 185,
   "id": "hollywood-sapphire",
   "metadata": {},
   "outputs": [
    {
     "data": {
      "image/png": "[encoded data removed]",
      "text/plain": [
       "<Figure size 432x288 with 1 Axes>"
      ]
     },
     "metadata": {
      "needs_background": "light"
     },
     "output_type": "display_data"
    }
   ],
   "source": [
    "# hypertension vs stroke\n",
    "sns.countplot(x=\"hypertension\", data=stroke1)\n",
    "plt.title(\"Hypertension vs Stroke\")\n",
    "plt.xlabel(\"Hypertension\")\n",
    "plt.ylabel(\"Count\")\n",
    "plt.show()"
   ]
  },
  {
   "cell_type": "markdown",
   "id": "brown-great",
   "metadata": {},
   "source": [
    "**Large number of people who had a stroke don't have hypertension.**"
   ]
  },
  {
   "cell_type": "code",
   "execution_count": 186,
   "id": "differential-manner",
   "metadata": {},
   "outputs": [
    {
     "data": {
      "image/png": "[encoded data removed]",
      "text/plain": [
       "<Figure size 432x288 with 1 Axes>"
      ]
     },
     "metadata": {
      "needs_background": "light"
     },
     "output_type": "display_data"
    }
   ],
   "source": [
    "# heart disease vs stroke\n",
    "sns.countplot(x=\"heart_disease\", data=stroke1)\n",
    "plt.title(\"Heart Disease vs Stroke\")\n",
    "plt.xlabel(\"Heart Disease\")\n",
    "plt.ylabel(\"Count\")\n",
    "plt.show()"
   ]
  },
  {
   "cell_type": "markdown",
   "id": "collect-nicaragua",
   "metadata": {},
   "source": [
    "**Large number of people who had a stroke don't have any heart disease.**"
   ]
  },
  {
   "cell_type": "code",
   "execution_count": 187,
   "id": "attempted-twins",
   "metadata": {},
   "outputs": [
    {
     "data": {
      "image/png": "[encoded data removed]",
      "text/plain": [
       "<Figure size 432x288 with 1 Axes>"
      ]
     },
     "metadata": {
      "needs_background": "light"
     },
     "output_type": "display_data"
    }
   ],
   "source": [
    "# ever_married vs stroke\n",
    "sns.countplot(x=\"ever_married\", data=stroke1)\n",
    "plt.title(\"Ever Married vs Stroke\")\n",
    "plt.xlabel(\"Ever Married\")\n",
    "plt.ylabel(\"Count\")\n",
    "plt.show()"
   ]
  },
  {
   "cell_type": "markdown",
   "id": "solved-experiment",
   "metadata": {},
   "source": [
    "**Most of the people who had a stroke had also have a marriage.**"
   ]
  },
  {
   "cell_type": "code",
   "execution_count": 188,
   "id": "underlying-transformation",
   "metadata": {},
   "outputs": [
    {
     "data": {
      "image/png": "[encoded data removed]",
      "text/plain": [
       "<Figure size 432x288 with 1 Axes>"
      ]
     },
     "metadata": {
      "needs_background": "light"
     },
     "output_type": "display_data"
    }
   ],
   "source": [
    "# work_type vs stroke\n",
    "sns.countplot(x=\"work_type\", data=stroke1)\n",
    "plt.title(\"Work Type vs Stroke\")\n",
    "plt.xlabel(\"Work Type\")\n",
    "plt.ylabel(\"Count\")\n",
    "plt.show()"
   ]
  },
  {
   "cell_type": "markdown",
   "id": "unique-socket",
   "metadata": {},
   "source": [
    "**Large number of people who had a stroke also work in private sector.**\n",
    "**People who have never worked or have goverment jobs are less likely to get a stroke.**"
   ]
  },
  {
   "cell_type": "code",
   "execution_count": 189,
   "id": "lesser-zimbabwe",
   "metadata": {},
   "outputs": [
    {
     "data": {
      "image/png": "[encoded data removed]",
      "text/plain": [
       "<Figure size 432x288 with 1 Axes>"
      ]
     },
     "metadata": {
      "needs_background": "light"
     },
     "output_type": "display_data"
    }
   ],
   "source": [
    "# residence_type vs stroke\n",
    "sns.countplot(x=\"residence_type\", data=stroke1)\n",
    "plt.title(\"Residence Type vs Stroke\")\n",
    "plt.xlabel(\"Residence Type\")\n",
    "plt.ylabel(\"Count\")\n",
    "plt.show()"
   ]
  },
  {
   "cell_type": "markdown",
   "id": "proprietary-permission",
   "metadata": {},
   "source": [
    "**More people from urban areas had a stroke than those who live in Rural areas.**"
   ]
  },
  {
   "cell_type": "code",
   "execution_count": 190,
   "id": "legal-three",
   "metadata": {},
   "outputs": [
    {
     "data": {
      "image/png": "[encoded data removed]",
      "text/plain": [
       "<Figure size 432x288 with 1 Axes>"
      ]
     },
     "metadata": {
      "needs_background": "light"
     },
     "output_type": "display_data"
    }
   ],
   "source": [
    "# smoking_status vs stroke\n",
    "sns.countplot(x=\"smoking_status\", data=stroke1)\n",
    "plt.title(\"Smoking Status vs Stroke\")\n",
    "plt.xlabel(\"Smoking Status\")\n",
    "plt.ylabel(\"Count\")\n",
    "plt.show()"
   ]
  },
  {
   "cell_type": "markdown",
   "id": "apart-university",
   "metadata": {},
   "source": [
    "**Most of the people who had a stroke are those who never smoked.**\n",
    "**It seems smoking status doesn't have much impact on having a stroke.**\n"
   ]
  },
  {
   "cell_type": "markdown",
   "id": "every-chance",
   "metadata": {},
   "source": [
    "## **C) DATA PREPARATION FOR MODEL BUILDING**"
   ]
  },
  {
   "cell_type": "markdown",
   "id": "divided-sodium",
   "metadata": {},
   "source": [
    "### 1) Removing Outliers"
   ]
  },
  {
   "cell_type": "code",
   "execution_count": 191,
   "id": "great-constraint",
   "metadata": {},
   "outputs": [
    {
     "name": "stdout",
     "output_type": "stream",
     "text": [
      "Number of outliers in each column are as follows:  \n",
      "\n",
      "bmi  126\n",
      "age  0\n",
      "avg_glucose_level  627\n",
      "\n",
      " Total outlier count: 753\n"
     ]
    }
   ],
   "source": [
    "# Counting outliers in each numerical column\n",
    "quant_var = [\"bmi\", \"age\", \"avg_glucose_level\"]\n",
    "outlier_count = []\n",
    "print(\"Number of outliers in each column are as follows: \",\"\\n\")\n",
    "\n",
    "for i in quant_var:\n",
    "    # calculate interquartile range\n",
    "    q25 = np.percentile(df[i], 25)\n",
    "    q75 = np.percentile(df[i], 75)\n",
    "    iqr = q75 - q25\n",
    "    \n",
    "    # calculate lower and upper limits\n",
    "    low_lim = q25 - (1.5 * iqr)\n",
    "    up_lim = q75 + (1.5 * iqr)\n",
    "    lst = df[(df[i] < low_lim) | (df[i] > up_lim)].index\n",
    "    outlier_count.append(len(lst))\n",
    "    print(i + \" \", len(lst))\n",
    "\n",
    "print(\"\\n\",\"Total outlier count:\", sum(outlier_count))"
   ]
  },
  {
   "cell_type": "markdown",
   "id": "italian-studio",
   "metadata": {},
   "source": [
    "**An outlier is a data point that is distant from other observations. If not removed or imputed, these observations may skew or mislead the training process of our model.**\n",
    "\n",
    "**As seen above calculations, there are many outliers in our dataset, particularly in avg_glucose_level and bmi columns.**"
   ]
  },
  {
   "cell_type": "code",
   "execution_count": 192,
   "id": "maritime-postcard",
   "metadata": {},
   "outputs": [
    {
     "data": {
      "image/png": "[encoded data removed]",
      "text/plain": [
       "<Figure size 1008x288 with 2 Axes>"
      ]
     },
     "metadata": {
      "needs_background": "light"
     },
     "output_type": "display_data"
    }
   ],
   "source": [
    "fig, axes = plt.subplots(1,2, figsize=(14,4))\n",
    "\n",
    "df.boxplot(ax=axes[0])\n",
    "axes[0].set_title(\"Before Removing Outliers\")\n",
    "\n",
    "# creating a function to replace outliers\n",
    "def remove_outliers(data):\n",
    "    ##calculate interquartile range\n",
    "    q25 = np.percentile(data, 25)\n",
    "    q75 = np.percentile(data, 75)\n",
    "    iqr = q75 - q25\n",
    "    \n",
    "    # calculate lower and upper limits\n",
    "    low_lim = q25 - (1.5 * iqr)\n",
    "    up_lim = q75 + (1.5 * iqr)\n",
    "    \n",
    "    # identify and cap outliers\n",
    "    outliers = []\n",
    "    for x in data:\n",
    "        if x < low_lim:\n",
    "            x = low_lim\n",
    "            outliers.append(x)\n",
    "        elif x > up_lim:\n",
    "            x = up_lim\n",
    "            outliers.append(x)\n",
    "        else:\n",
    "            outliers.append(x)\n",
    "    return outliers\n",
    "\n",
    "# replace outliers\n",
    "df[\"bmi\"] = remove_outliers(df['bmi'])\n",
    "df[\"avg_glucose_level\"] = remove_outliers(df[\"avg_glucose_level\"])\n",
    "\n",
    "df.boxplot(ax=axes[1])\n",
    "axes[1].set_title(\"After Removing Outliers\")\n",
    "plt.show()"
   ]
  },
  {
   "cell_type": "markdown",
   "id": "outside-cleaning",
   "metadata": {},
   "source": [
    "**As we don't want to lose sample size, we impute the outliers by capping them with upper and lower limits.**\n",
    "**For that purpose, we create \"remove_outliers\" function to replace the outliers with low_lim and up_lim values.**"
   ]
  },
  {
   "cell_type": "markdown",
   "id": "public-bristol",
   "metadata": {},
   "source": [
    "### 2) One-Hot Encoding"
   ]
  },
  {
   "cell_type": "code",
   "execution_count": 193,
   "id": "synthetic-anderson",
   "metadata": {},
   "outputs": [
    {
     "name": "stdout",
     "output_type": "stream",
     "text": [
      "Index(['age', 'avg_glucose_level', 'bmi', 'gender_Male', 'hypertension_1',\n",
      "       'heart_disease_1', 'ever_married_Yes', 'work_type_Never_worked',\n",
      "       'work_type_Private', 'work_type_Self-employed', 'residence_type_Urban',\n",
      "       'smoking_status_formerly smoked', 'smoking_status_never smoked',\n",
      "       'smoking_status_smokes'],\n",
      "      dtype='object')\n"
     ]
    }
   ],
   "source": [
    "# one-hot encoding\n",
    "# get dummies and identify predictor and outcome variables\n",
    "predictors = df.drop(columns = [\"stroke\"])\n",
    "outcome = \"stroke\"\n",
    "\n",
    "X = pd.get_dummies(predictors, drop_first=True)\n",
    "y = df[outcome]\n",
    "\n",
    "# Split validation\n",
    "train_X, valid_X, train_y, valid_y= train_test_split(X, y, test_size=0.30, random_state=1)\n",
    "\n",
    "print(X.columns)"
   ]
  },
  {
   "cell_type": "markdown",
   "id": "impossible-empire",
   "metadata": {},
   "source": [
    "**Using get_dummies method, we create additional features based on the number of unique values in each categorical variable.**\n",
    "**Next, we split our data-set into train and test data, with %70 and %30 data size respectively.**"
   ]
  },
  {
   "cell_type": "markdown",
   "id": "endless-parade",
   "metadata": {},
   "source": [
    "### 3) OverSampling"
   ]
  },
  {
   "cell_type": "code",
   "execution_count": 194,
   "id": "preceding-retrieval",
   "metadata": {},
   "outputs": [
    {
     "data": {
      "image/png": "[encoded data removed]",
      "text/plain": [
       "<Figure size 1008x288 with 2 Axes>"
      ]
     },
     "metadata": {
      "needs_background": "light"
     },
     "output_type": "display_data"
    }
   ],
   "source": [
    "fig, axes = plt.subplots(1,2, figsize=(14,4))\n",
    "\n",
    "# distribution of target variable Before oversampling\n",
    "sns.countplot(x = train_y, data = df, ax=axes[0])\n",
    "axes[0].set_title(\"Distribution of Stroke before OverSampling\")\n",
    "\n",
    "# Oversampling\n",
    "smote = SMOTE()\n",
    "train_X, train_y = smote.fit_resample(train_X, train_y)\n",
    "\n",
    "# distribution of target variable After oversampling\n",
    "sns.countplot(x = train_y, data = df, ax=axes[1])\n",
    "axes[1].set_title(\"Distribution of Stroke after OverSampling\")\n",
    "plt.show()"
   ]
  },
  {
   "cell_type": "markdown",
   "id": "naval-supplement",
   "metadata": {},
   "source": [
    "**As seem from the EDA part, the frequency of the target variable was is imbalanced.**\n",
    "**A highly imbalanced data may cause machine learning algorithms to have biased results. Our train model may even completely ignore the minority class.**\n",
    "\n",
    "**To prevent such issues, we introduce Synthetic Minority Oversampling Technique, or SMOTE to balance our data set.**"
   ]
  },
  {
   "cell_type": "markdown",
   "id": "identified-canvas",
   "metadata": {},
   "source": [
    "## **D) Comparison of Baseline Models**\n",
    "### 1) Decision Trees"
   ]
  },
  {
   "cell_type": "code",
   "execution_count": 195,
   "id": "latest-findings",
   "metadata": {},
   "outputs": [
    {
     "name": "stdout",
     "output_type": "stream",
     "text": [
      "Scores for prediction on validation set\n",
      "=======================================\n",
      "Precision score:  0.125\n",
      "Recall score:  0.639\n",
      "f1-score:  0.209\n",
      "Accuracy: 0.739\n"
     ]
    }
   ],
   "source": [
    "# run decisiontreeclassifier\n",
    "dt = DecisionTreeClassifier(max_depth=4)\n",
    "dt.fit(train_X, train_y)\n",
    "\n",
    "# get the prediction for both train and test\n",
    "prediction_train_dt = dt.predict(train_X)\n",
    "prediction_valid_dt = dt.predict(valid_X)\n",
    "\n",
    "# calculating precision, recall and F-measure\n",
    "p_1 = round(precision_score(valid_y,prediction_valid_dt),3)\n",
    "r_1 = round(recall_score(valid_y,prediction_valid_dt),3)\n",
    "f1_1 = round(f1_score(valid_y,prediction_valid_dt),3)\n",
    "a_1 = round(accuracy_score(valid_y, prediction_valid_dt),3)\n",
    "\n",
    "print(\"Scores for prediction on validation set\")\n",
    "print(\"=======================================\")\n",
    "print(\"Precision score: \", p_1)\n",
    "print(\"Recall score: \", r_1)\n",
    "print(\"f1-score: \", f1_1)\n",
    "print(\"Accuracy:\", a_1)"
   ]
  },
  {
   "cell_type": "markdown",
   "id": "successful-petroleum",
   "metadata": {},
   "source": [
    "### 2) Logistics Regression"
   ]
  },
  {
   "cell_type": "code",
   "execution_count": 196,
   "id": "rough-retrieval",
   "metadata": {},
   "outputs": [
    {
     "name": "stdout",
     "output_type": "stream",
     "text": [
      "Scores for prediction on validation set:\n",
      "=======================================\n",
      "Precision score:  0.14\n",
      "Recall score:  0.36\n",
      "f1-score:  0.2\n",
      "Accuracy: 0.84\n"
     ]
    }
   ],
   "source": [
    "# run logistic regression model\n",
    "logit = LogisticRegression(solver='liblinear')\n",
    "logit.fit(train_X,train_y)\n",
    "\n",
    "# predictions on training and validation set\n",
    "prediction_train_log = logit.predict(train_X)\n",
    "prediction_valid_log = logit.predict(valid_X)\n",
    "\n",
    "# calculating precision, recall and F-measure\n",
    "p_2 = round(precision_score(valid_y,prediction_valid_log),2)\n",
    "r_2 = round(recall_score(valid_y,prediction_valid_log),2)\n",
    "f1_2 = round(f1_score(valid_y,prediction_valid_log),2)\n",
    "a_2 = round(accuracy_score(valid_y, prediction_valid_log),2)\n",
    "\n",
    "print(\"Scores for prediction on validation set:\")\n",
    "print(\"=======================================\")\n",
    "print(\"Precision score: \", p_2)\n",
    "print(\"Recall score: \", r_2)\n",
    "print(\"f1-score: \", f1_2)\n",
    "print(\"Accuracy:\", a_2)"
   ]
  },
  {
   "cell_type": "markdown",
   "id": "amended-uzbekistan",
   "metadata": {},
   "source": [
    "### 3) Naive Bayes Model"
   ]
  },
  {
   "cell_type": "code",
   "execution_count": 197,
   "id": "quarterly-profit",
   "metadata": {},
   "outputs": [
    {
     "name": "stdout",
     "output_type": "stream",
     "text": [
      "Scores for prediction on validation set:\n",
      "=======================================\n",
      "Precision score:  0.08361774744027303\n",
      "Recall score:  0.5903614457831325\n",
      "f1-score:  0.14648729446935724\n",
      "Accuracy: 0.6275277234181343\n"
     ]
    }
   ],
   "source": [
    "# run naive Bayes\n",
    "nb = GaussianNB()\n",
    "nb.fit(train_X,train_y)\n",
    "\n",
    "# predict class membership\n",
    "prediction_train_nb=nb.predict(valid_X)\n",
    "\n",
    "# predict probabilities\n",
    "pred_train_prob_nb = nb.predict_proba(valid_X)\n",
    "\n",
    "# prediction accuracy on training and validation set\n",
    "prediction_train_nb = nb.predict(train_X)\n",
    "prediction_valid_nb = nb.predict(valid_X)\n",
    "\n",
    "# calculating precision, recall and F-measure on valid\n",
    "p_3 = precision_score(valid_y,prediction_valid_nb)\n",
    "r_3 = recall_score(valid_y,prediction_valid_nb)\n",
    "f1_3 = f1_score(valid_y,prediction_valid_nb)\n",
    "a_3 = accuracy_score(valid_y, prediction_valid_nb)\n",
    "\n",
    "print(\"Scores for prediction on validation set:\")\n",
    "print(\"=======================================\")\n",
    "print(\"Precision score: \", p_3)\n",
    "print(\"Recall score: \", r_3)\n",
    "print(\"f1-score: \", f1_3)\n",
    "print(\"Accuracy:\", a_3)"
   ]
  },
  {
   "cell_type": "markdown",
   "id": "exclusive-installation",
   "metadata": {},
   "source": [
    "### 4) Random Forest"
   ]
  },
  {
   "cell_type": "code",
   "execution_count": 198,
   "id": "japanese-society",
   "metadata": {},
   "outputs": [
    {
     "name": "stdout",
     "output_type": "stream",
     "text": [
      "Scores for prediction on validation set:\n",
      "=======================================\n",
      "precision score:  0.0958904109589041\n",
      "recall score:  0.08433734939759036\n",
      "f1-score:  0.08974358974358974\n",
      "Accuracy: 0.9073711676451403\n"
     ]
    }
   ],
   "source": [
    "# run randomforest classifier\n",
    "rf =  RandomForestClassifier(criterion = 'entropy', random_state = 42, n_estimators=500)\n",
    "rf.fit(train_X,train_y)\n",
    "\n",
    "p_4 = precision_score(valid_y,rf.predict(valid_X))\n",
    "r_4 = recall_score(valid_y,rf.predict(valid_X))\n",
    "f1_4 = f1_score(valid_y,rf.predict(valid_X))\n",
    "a_4 = accuracy_score(valid_y, rf.predict(valid_X))\n",
    "\n",
    "print(\"Scores for prediction on validation set:\")\n",
    "print(\"=======================================\")\n",
    "print(\"precision score: \", p_4)\n",
    "print(\"recall score: \", r_4)\n",
    "print(\"f1-score: \", f1_4)\n",
    "print(\"Accuracy:\", a_4)"
   ]
  },
  {
   "cell_type": "markdown",
   "id": "maritime-blowing",
   "metadata": {},
   "source": [
    "### Comparison of Models"
   ]
  },
  {
   "cell_type": "code",
   "execution_count": 199,
   "id": "operational-emphasis",
   "metadata": {},
   "outputs": [
    {
     "data": {
      "text/html": [
       "<div>\n",
       "<style scoped>\n",
       "    .dataframe tbody tr th:only-of-type {\n",
       "        vertical-align: middle;\n",
       "    }\n",
       "\n",
       "    .dataframe tbody tr th {\n",
       "        vertical-align: top;\n",
       "    }\n",
       "\n",
       "    .dataframe thead th {\n",
       "        text-align: right;\n",
       "    }\n",
       "</style>\n",
       "<table border=\"1\" class=\"dataframe\">\n",
       "  <thead>\n",
       "    <tr style=\"text-align: right;\">\n",
       "      <th></th>\n",
       "      <th>Classifier</th>\n",
       "      <th>Precision</th>\n",
       "      <th>Recall</th>\n",
       "      <th>F1-score</th>\n",
       "      <th>Accuracy</th>\n",
       "    </tr>\n",
       "  </thead>\n",
       "  <tbody>\n",
       "    <tr>\n",
       "      <th>0</th>\n",
       "      <td>Decision Tree Classifier</td>\n",
       "      <td>0.125000</td>\n",
       "      <td>0.639000</td>\n",
       "      <td>0.209000</td>\n",
       "      <td>0.739000</td>\n",
       "    </tr>\n",
       "    <tr>\n",
       "      <th>1</th>\n",
       "      <td>Logistic Regression</td>\n",
       "      <td>0.140000</td>\n",
       "      <td>0.360000</td>\n",
       "      <td>0.200000</td>\n",
       "      <td>0.840000</td>\n",
       "    </tr>\n",
       "    <tr>\n",
       "      <th>2</th>\n",
       "      <td>Naive Bayes</td>\n",
       "      <td>0.083618</td>\n",
       "      <td>0.590361</td>\n",
       "      <td>0.146487</td>\n",
       "      <td>0.627528</td>\n",
       "    </tr>\n",
       "    <tr>\n",
       "      <th>3</th>\n",
       "      <td>Random Forest</td>\n",
       "      <td>0.095890</td>\n",
       "      <td>0.084337</td>\n",
       "      <td>0.089744</td>\n",
       "      <td>0.907371</td>\n",
       "    </tr>\n",
       "  </tbody>\n",
       "</table>\n",
       "</div>"
      ],
      "text/plain": [
       "                 Classifier  Precision    Recall  F1-score  Accuracy\n",
       "0  Decision Tree Classifier   0.125000  0.639000  0.209000  0.739000\n",
       "1       Logistic Regression   0.140000  0.360000  0.200000  0.840000\n",
       "2               Naive Bayes   0.083618  0.590361  0.146487  0.627528\n",
       "3             Random Forest   0.095890  0.084337  0.089744  0.907371"
      ]
     },
     "execution_count": 199,
     "metadata": {},
     "output_type": "execute_result"
    }
   ],
   "source": [
    "# creating lists of all scores for comparison\n",
    "precision0=[p_1,p_2,p_3,p_4]\n",
    "recall0=[r_1,r_2,r_3,r_4]\n",
    "f1score0=[f1_1,f1_2,f1_3,f1_4]\n",
    "accuracy0=[a_1,a_2,a_3,a_4,]\n",
    "\n",
    "# dataframe for comparison\n",
    "df_metrics0=pd.DataFrame({\n",
    "    \"Classifier\":[\n",
    "        \"Decision Tree Classifier\",\"Logistic Regression\",\"Naive Bayes\",\"Random Forest\",\n",
    "    ],\"Precision\":precision0,\"Recall\":recall0,\"F1-score\":f1score0,\"Accuracy\":accuracy0})\n",
    "\n",
    "df_metrics0"
   ]
  },
  {
   "cell_type": "markdown",
   "id": "searching-christopher",
   "metadata": {},
   "source": [
    "## **E) FEATURE SELECTION**"
   ]
  },
  {
   "cell_type": "code",
   "execution_count": 200,
   "id": "comfortable-adoption",
   "metadata": {},
   "outputs": [
    {
     "name": "stdout",
     "output_type": "stream",
     "text": [
      "['age', 'work_type_Never_worked', 'heart_disease_1', 'avg_glucose_level', 'ever_married_Yes', 'hypertension_1', 'work_type_Private']\n"
     ]
    }
   ],
   "source": [
    "import statsmodels.api as sm\n",
    "def forward_selection(data, target, significance_level=0.05):\n",
    "    initial_features = data.columns.tolist()\n",
    "    best_features = []\n",
    "    while (len(initial_features)>0):\n",
    "        remaining_features = list(set(initial_features)-set(best_features))\n",
    "        new_pval = pd.Series(index=remaining_features)\n",
    "        for new_column in remaining_features:\n",
    "            model = sm.OLS(target, sm.add_constant(data[best_features+[new_column]])).fit()\n",
    "            new_pval[new_column] = model.pvalues[new_column]\n",
    "        min_p_value = new_pval.min()\n",
    "        if(min_p_value<significance_level):\n",
    "            best_features.append(new_pval.idxmin())\n",
    "        else:\n",
    "            break\n",
    "    return best_features\n",
    "\n",
    "print(forward_selection(X,y))"
   ]
  },
  {
   "cell_type": "markdown",
   "id": "crude-there",
   "metadata": {},
   "source": [
    "**Feature selection is a process of selecting the most significant and relevant features from a dataset.**\n",
    "**This process is needed to eliminate less important and irrelevant features which lead to inaccurate predictions for our model.**\n",
    "\n",
    "**In forward selection method, we start fitting the model with each feature one at a time and choose the feature with mininum p value.**\n",
    "**We repeat this process combining with previously chosen features till we have a set of features with p values less than the significance level (0.05).**"
   ]
  },
  {
   "cell_type": "code",
   "execution_count": 201,
   "id": "constant-reynolds",
   "metadata": {},
   "outputs": [],
   "source": [
    "# choosing the best features for our training data\n",
    "X_for_selected=X[['age',\n",
    " 'work_type_Never_worked',\n",
    " 'heart_disease_1',\n",
    " 'avg_glucose_level',\n",
    " 'ever_married_Yes',\n",
    " 'hypertension_1',\n",
    " 'work_type_Private']]\n",
    "\n",
    "# splitting the dataset\n",
    "trainx, validx, trainy, validy = train_test_split(X_for_selected,y,test_size=0.30, random_state=1)"
   ]
  },
  {
   "cell_type": "markdown",
   "id": "smooth-suspension",
   "metadata": {},
   "source": [
    "**Here in our case, the best features for our data set are as follows:\n",
    "'age', 'work_type_Never_worked', 'heart_disease_1', 'avg_glucose_level', 'ever_married_Yes', 'hypertension_1', 'work_type_Private'**\n",
    "\n",
    "**Next, selecting the best features we create a new train and test splits, again with %70 and %30 data size, and apply them into our models.**"
   ]
  },
  {
   "cell_type": "markdown",
   "id": "relevant-event",
   "metadata": {},
   "source": [
    "### 1) Decision Trees with Best Selected Features"
   ]
  },
  {
   "cell_type": "code",
   "execution_count": 202,
   "id": "ignored-belief",
   "metadata": {},
   "outputs": [
    {
     "name": "stdout",
     "output_type": "stream",
     "text": [
      "DecisionTree Scores for prediction on validation set\n",
      "=======================================\n",
      "Precision score:  0.25\n",
      "Recall score:  0.012\n",
      "f1-score:  0.023\n",
      "Accuracy: 0.945\n"
     ]
    }
   ],
   "source": [
    "# run decisiontreeclassifier\n",
    "dt = DecisionTreeClassifier(max_depth=4)\n",
    "dt.fit(trainx, trainy)\n",
    "\n",
    "# get the prediction for both train and test\n",
    "prediction_train_dt = dt.predict(trainx)\n",
    "prediction_valid_dt = dt.predict(validx)\n",
    "\n",
    "# calculating precision, recall and F-measure\n",
    "p1 = round(precision_score(validy,prediction_valid_dt),3)\n",
    "r1 = round(recall_score(validy,prediction_valid_dt),3)\n",
    "f11 = round(f1_score(validy,prediction_valid_dt),3)\n",
    "a1 = round(accuracy_score(validy, prediction_valid_dt),3)\n",
    "\n",
    "print(\"DecisionTree Scores for prediction on validation set\")\n",
    "print(\"=======================================\")\n",
    "print(\"Precision score: \", p1)\n",
    "print(\"Recall score: \", r1)\n",
    "print(\"f1-score: \", f11)\n",
    "print(\"Accuracy:\", a1)"
   ]
  },
  {
   "cell_type": "markdown",
   "id": "immune-museum",
   "metadata": {},
   "source": [
    "### 2) Logistics Regression with Best Selected Features"
   ]
  },
  {
   "cell_type": "code",
   "execution_count": 203,
   "id": "eastern-concern",
   "metadata": {},
   "outputs": [
    {
     "name": "stdout",
     "output_type": "stream",
     "text": [
      "Logistics Regression Scores for prediction on validation set:\n",
      "=======================================\n",
      "Precision score:  0.0\n",
      "Recall score:  0.0\n",
      "f1-score:  0.0\n",
      "Accuracy: 0.95\n"
     ]
    }
   ],
   "source": [
    "# run logisticsRegression model\n",
    "logit = LogisticRegression(solver='liblinear')\n",
    "logit.fit(trainx, trainy)\n",
    "\n",
    "# predictions on training and validation set\n",
    "prediction_train_log = logit.predict(trainx)\n",
    "prediction_valid_log = logit.predict(validx)\n",
    "\n",
    "# calculating precision, recall and F-measure\n",
    "p2 = round(precision_score(validy,  prediction_valid_log),2)\n",
    "r2 = round(recall_score(validy,prediction_valid_log),2)\n",
    "f12 = round(f1_score(validy, prediction_valid_log),2)\n",
    "a2 = round(accuracy_score(validy, prediction_valid_log),2)\n",
    "\n",
    "print(\"Logistics Regression Scores for prediction on validation set:\")\n",
    "print(\"=======================================\")\n",
    "print(\"Precision score: \", p2)\n",
    "print(\"Recall score: \", r2)\n",
    "print(\"f1-score: \", f12)\n",
    "print(\"Accuracy:\", a2)"
   ]
  },
  {
   "cell_type": "markdown",
   "id": "forbidden-adapter",
   "metadata": {},
   "source": [
    "### 3) Naive Bayes with Best Selected Features"
   ]
  },
  {
   "cell_type": "code",
   "execution_count": 204,
   "id": "analyzed-opposition",
   "metadata": {},
   "outputs": [
    {
     "name": "stdout",
     "output_type": "stream",
     "text": [
      "Naive Bayes Scores for prediction on validation set:\n",
      "=======================================\n",
      "Precision score:  0.19138755980861244\n",
      "Recall score:  0.4819277108433735\n",
      "f1-score:  0.273972602739726\n",
      "Accuracy: 0.8617090671885193\n"
     ]
    }
   ],
   "source": [
    "#run naive Bayes\n",
    "nb = GaussianNB()\n",
    "nb.fit(trainx,trainy)\n",
    "\n",
    "##predict class membership\n",
    "prediction_train_nb = nb.predict(validx)\n",
    "\n",
    "##predict probabilities\n",
    "pred_train_prob_nb = nb.predict_proba(validx)\n",
    "\n",
    "##Prediction accuracy on training and validation set\n",
    "prediction_train_nb = nb.predict(trainx)\n",
    "prediction_valid_nb = nb.predict(validx)\n",
    "\n",
    "#Calculating precision, recall and F-measure on valid\n",
    "p3 = precision_score(validy,prediction_valid_nb)\n",
    "r3 = recall_score(validy,prediction_valid_nb)\n",
    "f13 = f1_score(validy,prediction_valid_nb)\n",
    "a3 = accuracy_score(validy, prediction_valid_nb)\n",
    "\n",
    "print(\"Naive Bayes Scores for prediction on validation set:\")\n",
    "print(\"=======================================\")\n",
    "print(\"Precision score: \", p3)\n",
    "print(\"Recall score: \", r3)\n",
    "print(\"f1-score: \", f13)\n",
    "print(\"Accuracy:\", a3)"
   ]
  },
  {
   "cell_type": "markdown",
   "id": "existing-concept",
   "metadata": {},
   "source": [
    "### 4) Random Forest with Best Selected Features"
   ]
  },
  {
   "cell_type": "code",
   "execution_count": 205,
   "id": "respective-facing",
   "metadata": {},
   "outputs": [
    {
     "name": "stdout",
     "output_type": "stream",
     "text": [
      "Random Forest Scores for prediction on validation set:\n",
      "=======================================\n",
      "precision score:  0.24\n",
      "recall score:  0.07228915662650602\n",
      "f1-score:  0.11111111111111109\n",
      "Accuracy: 0.9373776908023483\n"
     ]
    }
   ],
   "source": [
    "# run randomforest classifier\n",
    "rf=RandomForestClassifier(criterion = 'entropy', random_state = 42, n_estimators=500)\n",
    "rf.fit(trainx, trainy)\n",
    "\n",
    "p4 = precision_score(validy,rf.predict(validx))\n",
    "r4 = recall_score(validy,rf.predict(validx))\n",
    "f14 = f1_score(validy,rf.predict(validx))\n",
    "a4 = accuracy_score(validy, rf.predict(validx))\n",
    "\n",
    "print(\"Random Forest Scores for prediction on validation set:\")\n",
    "print(\"=======================================\")\n",
    "print(\"precision score: \", p4)\n",
    "print(\"recall score: \", r4)\n",
    "print(\"f1-score: \", f14)\n",
    "print(\"Accuracy:\", a4)"
   ]
  },
  {
   "cell_type": "markdown",
   "id": "operating-lighting",
   "metadata": {},
   "source": [
    "### Comparison of Models After Feature Selection"
   ]
  },
  {
   "cell_type": "code",
   "execution_count": 206,
   "id": "suffering-ballet",
   "metadata": {},
   "outputs": [
    {
     "data": {
      "text/html": [
       "<div>\n",
       "<style scoped>\n",
       "    .dataframe tbody tr th:only-of-type {\n",
       "        vertical-align: middle;\n",
       "    }\n",
       "\n",
       "    .dataframe tbody tr th {\n",
       "        vertical-align: top;\n",
       "    }\n",
       "\n",
       "    .dataframe thead tr th {\n",
       "        text-align: left;\n",
       "    }\n",
       "</style>\n",
       "<table border=\"1\" class=\"dataframe\">\n",
       "  <thead>\n",
       "    <tr>\n",
       "      <th></th>\n",
       "      <th colspan=\"5\" halign=\"left\">BEFORE FEATURE SELECTION</th>\n",
       "      <th colspan=\"5\" halign=\"left\">AFTER FEATURE SELECTION</th>\n",
       "    </tr>\n",
       "    <tr>\n",
       "      <th></th>\n",
       "      <th>Classifier</th>\n",
       "      <th>Precision</th>\n",
       "      <th>Recall</th>\n",
       "      <th>F1-score</th>\n",
       "      <th>Accuracy</th>\n",
       "      <th>Classifier</th>\n",
       "      <th>Precision</th>\n",
       "      <th>Recall</th>\n",
       "      <th>F1-score</th>\n",
       "      <th>Accuracy</th>\n",
       "    </tr>\n",
       "  </thead>\n",
       "  <tbody>\n",
       "    <tr>\n",
       "      <th>0</th>\n",
       "      <td>Decision Tree Classifier</td>\n",
       "      <td>0.125000</td>\n",
       "      <td>0.639000</td>\n",
       "      <td>0.209000</td>\n",
       "      <td>0.739000</td>\n",
       "      <td>Decision Tree Classifier</td>\n",
       "      <td>0.250000</td>\n",
       "      <td>0.012000</td>\n",
       "      <td>0.023000</td>\n",
       "      <td>0.945000</td>\n",
       "    </tr>\n",
       "    <tr>\n",
       "      <th>1</th>\n",
       "      <td>Logistic Regression</td>\n",
       "      <td>0.140000</td>\n",
       "      <td>0.360000</td>\n",
       "      <td>0.200000</td>\n",
       "      <td>0.840000</td>\n",
       "      <td>Logistic Regression</td>\n",
       "      <td>0.000000</td>\n",
       "      <td>0.000000</td>\n",
       "      <td>0.000000</td>\n",
       "      <td>0.950000</td>\n",
       "    </tr>\n",
       "    <tr>\n",
       "      <th>2</th>\n",
       "      <td>Naive Bayes</td>\n",
       "      <td>0.083618</td>\n",
       "      <td>0.590361</td>\n",
       "      <td>0.146487</td>\n",
       "      <td>0.627528</td>\n",
       "      <td>Naive Bayes</td>\n",
       "      <td>0.083618</td>\n",
       "      <td>0.590361</td>\n",
       "      <td>0.273973</td>\n",
       "      <td>0.861709</td>\n",
       "    </tr>\n",
       "    <tr>\n",
       "      <th>3</th>\n",
       "      <td>Random Forest</td>\n",
       "      <td>0.095890</td>\n",
       "      <td>0.084337</td>\n",
       "      <td>0.089744</td>\n",
       "      <td>0.907371</td>\n",
       "      <td>Random Forest</td>\n",
       "      <td>0.240000</td>\n",
       "      <td>0.072289</td>\n",
       "      <td>0.111111</td>\n",
       "      <td>0.937378</td>\n",
       "    </tr>\n",
       "  </tbody>\n",
       "</table>\n",
       "</div>"
      ],
      "text/plain": [
       "   BEFORE FEATURE SELECTION                                          \\\n",
       "                 Classifier Precision    Recall  F1-score  Accuracy   \n",
       "0  Decision Tree Classifier  0.125000  0.639000  0.209000  0.739000   \n",
       "1       Logistic Regression  0.140000  0.360000  0.200000  0.840000   \n",
       "2               Naive Bayes  0.083618  0.590361  0.146487  0.627528   \n",
       "3             Random Forest  0.095890  0.084337  0.089744  0.907371   \n",
       "\n",
       "    AFTER FEATURE SELECTION                                          \n",
       "                 Classifier Precision    Recall  F1-score  Accuracy  \n",
       "0  Decision Tree Classifier  0.250000  0.012000  0.023000  0.945000  \n",
       "1       Logistic Regression  0.000000  0.000000  0.000000  0.950000  \n",
       "2               Naive Bayes  0.083618  0.590361  0.273973  0.861709  \n",
       "3             Random Forest  0.240000  0.072289  0.111111  0.937378  "
      ]
     },
     "metadata": {},
     "output_type": "display_data"
    }
   ],
   "source": [
    "# creating lists of all scores for comparison\n",
    "precision1=[p1,p2,p_3,p4]\n",
    "recall1=[r1,r2,r_3,r4]\n",
    "f1score1=[f11,f12,f13,f14]\n",
    "accuracy1=[a1,a2,a3,a4]\n",
    "\n",
    "# dataframe for comparison\n",
    "df_metrics1=pd.DataFrame({\n",
    "    \"Classifier\":[\n",
    "        \"Decision Tree Classifier\",\"Logistic Regression\",\"Naive Bayes\",\"Random Forest\",\n",
    "    ],\"Precision\":precision1,\"Recall\":recall1,\"F1-score\":f1score1,\"Accuracy\":accuracy1})\n",
    "\n",
    "\n",
    "display(pd.concat([df_metrics0, df_metrics1], axis=1, keys=(\"BEFORE FEATURE SELECTION\", \"AFTER FEATURE SELECTION\")))"
   ]
  },
  {
   "cell_type": "markdown",
   "id": "adjustable-morrison",
   "metadata": {},
   "source": [
    "Although Accuracy score is the most intuitive performance measure- as it is the ratio of correctly predicted observations to total observations- we still need to look at other parameters such as Recall and F1-score to evaluate the performance of our models.\n",
    "\n",
    "The model with highest F1-score, Accuracy, and Recall score after the feature selection is **Naive Bayes Model.**\n",
    "The reason we are focusing on F1-score and Recall score for our model is **because we want to keep the number of False Negatives as small as possible.**"
   ]
  },
  {
   "cell_type": "code",
   "execution_count": 207,
   "id": "correct-terrace",
   "metadata": {},
   "outputs": [
    {
     "name": "stdout",
     "output_type": "stream",
     "text": [
      "Confusion Matrix (Accuracy 0.8617)\n",
      "\n",
      "       Prediction\n",
      "Actual    0    1\n",
      "     0 1281  169\n",
      "     1   43   40\n"
     ]
    }
   ],
   "source": [
    "classificationSummary(validy, prediction_valid_nb)"
   ]
  },
  {
   "cell_type": "markdown",
   "id": "liked-setup",
   "metadata": {},
   "source": [
    "Above you can see the distribution of confusion matrix in our Naive Bayes Model. \n",
    "    \n",
    "**True Negative**: 1281 people were predicted to not have a stroke, and didn't have a stroke.  \n",
    "**True Positive**: 40 people were predicted to have a stroke, and did have a stroke.  \n",
    "**False Negative**: 43 people were predicted to not have a stroke, but did have a stroke.  \n",
    "**False Positive**: 169 people were predicted to have a stroke, but didn't have a stroke.\n",
    "\n",
    "Please note that Recall score is calculated by True Positives(TP) divided by Total Actual Positives (TP + FN),  \n",
    "and Precision score is calculated by True Positives(TP) divided by the Total Predicted Positives (TP + FP).  \n",
    "Additionally, F1-score is the weighted average of Precision and Recall."
   ]
  },
  {
   "cell_type": "markdown",
   "id": "fitted-danger",
   "metadata": {},
   "source": [
    "**As conclusion, applying feature selection method to our base-models we have succesfully improved our Naive Bayes Model with %32 increase in Accuracy and %80 increase in F1-score.**\n",
    "\n",
    "**Additionally we have selected the best possible features to use in our stroke prediction program.**\n",
    "\n",
    "'age', 'work_type_Never_worked', 'heart_disease_1', 'avg_glucose_level', 'ever_married_Yes', 'hypertension_1', 'work_type_Private'\n",
    "\n",
    "**Next focusing on the these features we will write our Stroke Prediction Program to measure the likelihood of someone getting a stroke based on our Naive Bayes Model.**"
   ]
  }
 ],
 "metadata": {
  "kernelspec": {
   "display_name": "Python 3",
   "language": "python",
   "name": "python3"
  },
  "language_info": {
   "codemirror_mode": {
    "name": "ipython",
    "version": 3
   },
   "file_extension": ".py",
   "mimetype": "text/x-python",
   "name": "python",
   "nbconvert_exporter": "python",
   "pygments_lexer": "ipython3",
   "version": "3.8.2"
  }
 },
 "nbformat": 4,
 "nbformat_minor": 5
}
